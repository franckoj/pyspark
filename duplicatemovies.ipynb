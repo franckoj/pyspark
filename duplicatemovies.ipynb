{
  "nbformat": 4,
  "nbformat_minor": 0,
  "metadata": {
    "colab": {
      "name": "duplicatemovies.ipynb",
      "provenance": [],
      "authorship_tag": "ABX9TyM7NoW/Kdv00Ny1g/nnZQaE",
      "include_colab_link": true
    },
    "kernelspec": {
      "name": "python3",
      "display_name": "Python 3"
    },
    "language_info": {
      "name": "python"
    }
  },
  "cells": [
    {
      "cell_type": "markdown",
      "metadata": {
        "id": "view-in-github",
        "colab_type": "text"
      },
      "source": [
        "<a href=\"https://colab.research.google.com/github/franckoj/pyspark/blob/main/duplicatemovies.ipynb\" target=\"_parent\"><img src=\"https://colab.research.google.com/assets/colab-badge.svg\" alt=\"Open In Colab\"/></a>"
      ]
    },
    {
      "cell_type": "code",
      "metadata": {
        "id": "RALAbxGPi2jy"
      },
      "source": [
        "!pip install pyspark"
      ],
      "execution_count": null,
      "outputs": []
    },
    {
      "cell_type": "code",
      "metadata": {
        "id": "HtY9it3YjALy"
      },
      "source": [
        "from pyspark.sql import SparkSession\n",
        "spark = SparkSession.builder.appName(\"MovieDataAnalysis\").getOrCreate()"
      ],
      "execution_count": 2,
      "outputs": []
    },
    {
      "cell_type": "code",
      "metadata": {
        "id": "1yunYwuCi5B6"
      },
      "source": [
        "schema_item = 'movieid string, movietitle string,releasedate string, videoreleasedate long,IMDbURL string, unknown string , Action string, Adventure string, Animation string,Childrens string, Comedy string, Crime string, Documentary string, Drama string, Fantasy string,FilmNoir string, Horror string, Musical string, Mystery string, Romance string, SciFi string,Thriller string, War string, Western string'\n",
        "df_item = spark.read.csv('/content/u.item',sep='|',schema=schema_item)"
      ],
      "execution_count": 4,
      "outputs": []
    },
    {
      "cell_type": "code",
      "metadata": {
        "id": "xnf1ahFjjMeM"
      },
      "source": [
        "df_item.printSchema()"
      ],
      "execution_count": null,
      "outputs": []
    },
    {
      "cell_type": "code",
      "metadata": {
        "id": "Otbo56vyjodf"
      },
      "source": [
        "#find the duplicate movies\n",
        "df=df_item.groupBy('movietitle').count().select('movietitle').filter('count>1').repartition(1).write.save(\"duplicatemovies.pqt\")"
      ],
      "execution_count": 43,
      "outputs": []
    }
  ]
}