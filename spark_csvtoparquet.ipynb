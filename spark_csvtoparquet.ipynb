{
  "nbformat": 4,
  "nbformat_minor": 0,
  "metadata": {
    "colab": {
      "name": "spark-csvtoparquet.ipynb",
      "provenance": [],
      "authorship_tag": "ABX9TyOINZ42fX/0VlRGk1wIJioU",
      "include_colab_link": true
    },
    "kernelspec": {
      "name": "python3",
      "display_name": "Python 3"
    },
    "language_info": {
      "name": "python"
    }
  },
  "cells": [
    {
      "cell_type": "markdown",
      "metadata": {
        "id": "view-in-github",
        "colab_type": "text"
      },
      "source": [
        "<a href=\"https://colab.research.google.com/github/franckoj/pyspark/blob/main/spark_csvtoparquet.ipynb\" target=\"_parent\"><img src=\"https://colab.research.google.com/assets/colab-badge.svg\" alt=\"Open In Colab\"/></a>"
      ]
    },
    {
      "cell_type": "code",
      "metadata": {
        "id": "qJeoBtJxGus1"
      },
      "source": [
        "!pip install pyspark"
      ],
      "execution_count": null,
      "outputs": []
    },
    {
      "cell_type": "code",
      "metadata": {
        "id": "82bteFBzGwq6"
      },
      "source": [
        "from pyspark.sql import SparkSession"
      ],
      "execution_count": 38,
      "outputs": []
    },
    {
      "cell_type": "code",
      "metadata": {
        "id": "YfA7pGYuHBV6"
      },
      "source": [
        "spark = SparkSession.builder.appName('CSV-PARQUET').getOrCreate()\n",
        "    "
      ],
      "execution_count": 39,
      "outputs": []
    },
    {
      "cell_type": "code",
      "metadata": {
        "id": "Ezg8B-XcHN5C"
      },
      "source": [
        "df=spark.read.csv('/vaccination-data.csv', header = True)"
      ],
      "execution_count": 41,
      "outputs": []
    },
    {
      "cell_type": "code",
      "metadata": {
        "id": "6MQjgZ8RHehe"
      },
      "source": [
        "df.repartition(1).write.mode('overwrite').parquet('tmp/pyspark_us_presidents')"
      ],
      "execution_count": 44,
      "outputs": []
    }
  ]
}