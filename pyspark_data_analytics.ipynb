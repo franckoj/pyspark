{
  "nbformat": 4,
  "nbformat_minor": 0,
  "metadata": {
    "colab": {
      "name": "pyspark-data-analytics.ipynb",
      "provenance": [],
      "authorship_tag": "ABX9TyMfJXXMyW68aZVWSZzRiry1",
      "include_colab_link": true
    },
    "kernelspec": {
      "name": "python3",
      "display_name": "Python 3"
    },
    "language_info": {
      "name": "python"
    }
  },
  "cells": [
    {
      "cell_type": "markdown",
      "metadata": {
        "id": "view-in-github",
        "colab_type": "text"
      },
      "source": [
        "<a href=\"https://colab.research.google.com/github/franckoj/pyspark/blob/main/pyspark_data_analytics.ipynb\" target=\"_parent\"><img src=\"https://colab.research.google.com/assets/colab-badge.svg\" alt=\"Open In Colab\"/></a>"
      ]
    },
    {
      "cell_type": "code",
      "metadata": {
        "id": "77otc2wU-XXw"
      },
      "source": [
        " !pip install pyspark"
      ],
      "execution_count": null,
      "outputs": []
    },
    {
      "cell_type": "code",
      "metadata": {
        "id": "dPbbzjkoUSSQ"
      },
      "source": [
        "from pyspark.sql import SparkSession"
      ],
      "execution_count": null,
      "outputs": []
    },
    {
      "cell_type": "code",
      "metadata": {
        "id": "j6xBSTFRU-_v"
      },
      "source": [
        "spark = SparkSession.builder.appName('Test').getOrCreate()"
      ],
      "execution_count": null,
      "outputs": []
    },
    {
      "cell_type": "code",
      "metadata": {
        "id": "GCnRlLz-VK1P"
      },
      "source": [
        "df_file = spark.read.csv('/content/vaccination-data.csv',header= True, inferSchema=True)"
      ],
      "execution_count": null,
      "outputs": []
    },
    {
      "cell_type": "code",
      "metadata": {
        "id": "4B9Mx5oHlXdU"
      },
      "source": [
        "df_file.show(5)"
      ],
      "execution_count": null,
      "outputs": []
    },
    {
      "cell_type": "code",
      "metadata": {
        "id": "LlfPuaOuVlpM"
      },
      "source": [
        "df_file.printSchema()"
      ],
      "execution_count": null,
      "outputs": []
    },
    {
      "cell_type": "code",
      "metadata": {
        "id": "qhTVzfc1WAk-"
      },
      "source": [
        "df_file.withColumnRenamed('COUNTRY','STATE').show()"
      ],
      "execution_count": null,
      "outputs": []
    },
    {
      "cell_type": "code",
      "metadata": {
        "id": "SQppVij-W2nD"
      },
      "source": [
        "df_file.collect()"
      ],
      "execution_count": null,
      "outputs": []
    },
    {
      "cell_type": "code",
      "metadata": {
        "colab": {
          "base_uri": "https://localhost:8080/"
        },
        "id": "K_7lJStiXJFf",
        "outputId": "8b51d21b-ad54-47a8-c930-51e4c6c07dfd"
      },
      "source": [
        "df_file.COUNTRY"
      ],
      "execution_count": 26,
      "outputs": [
        {
          "output_type": "execute_result",
          "data": {
            "text/plain": [
              "Column<'COUNTRY'>"
            ]
          },
          "metadata": {
            "tags": []
          },
          "execution_count": 26
        }
      ]
    },
    {
      "cell_type": "code",
      "metadata": {
        "id": "wwtCZYqpbZKO",
        "colab": {
          "base_uri": "https://localhost:8080/"
        },
        "outputId": "c2a33b8e-2bbb-40f9-c222-25b6aaf00468"
      },
      "source": [
        "df_file.filter('NUMBER_VACCINES_TYPES_USED<=2').select(['COUNTRY','NUMBER_VACCINES_TYPES_USED']).count()"
      ],
      "execution_count": 36,
      "outputs": [
        {
          "output_type": "execute_result",
          "data": {
            "text/plain": [
              "90"
            ]
          },
          "metadata": {
            "tags": []
          },
          "execution_count": 36
        }
      ]
    },
    {
      "cell_type": "code",
      "metadata": {
        "colab": {
          "base_uri": "https://localhost:8080/"
        },
        "id": "fgOPMDlclwEf",
        "outputId": "f1ba6898-dd77-46c6-c3bb-c5d9902c1a84"
      },
      "source": [
        "df_file.select('COUNTRY').count()"
      ],
      "execution_count": 38,
      "outputs": [
        {
          "output_type": "execute_result",
          "data": {
            "text/plain": [
              "224"
            ]
          },
          "metadata": {
            "tags": []
          },
          "execution_count": 38
        }
      ]
    },
    {
      "cell_type": "code",
      "metadata": {
        "id": "uh-aOXeenlR0"
      },
      "source": [
        "df_file.filter((df_file['PERSONS_FULLY_VACCINATED']>=10000000) &\n",
        " (df_file['NUMBER_VACCINES_TYPES_USED']>1)).select(['COUNTRY','VACCINES_USED']).show()"
      ],
      "execution_count": null,
      "outputs": []
    },
    {
      "cell_type": "code",
      "metadata": {
        "id": "6rUuDJ5fvG-7"
      },
      "source": [
        "df_file.sort(df_file.PERSONS_FULLY_VACCINATED.desc()).show(5)"
      ],
      "execution_count": null,
      "outputs": []
    },
    {
      "cell_type": "code",
      "metadata": {
        "id": "suXvjY84v0g6"
      },
      "source": [
        "df_file.groupBy('VACCINES_USED').max().show()"
      ],
      "execution_count": null,
      "outputs": []
    },
    {
      "cell_type": "code",
      "metadata": {
        "colab": {
          "base_uri": "https://localhost:8080/"
        },
        "id": "TpNja26En89H",
        "outputId": "d2a59d0f-6027-438c-f129-4731ac68fae7"
      },
      "source": [
        "df_file.printSchema()"
      ],
      "execution_count": 51,
      "outputs": [
        {
          "output_type": "stream",
          "text": [
            "root\n",
            " |-- COUNTRY: string (nullable = true)\n",
            " |-- ISO3: string (nullable = true)\n",
            " |-- WHO_REGION: string (nullable = true)\n",
            " |-- DATA_SOURCE: string (nullable = true)\n",
            " |-- DATE_UPDATED: string (nullable = true)\n",
            " |-- TOTAL_VACCINATIONS: integer (nullable = true)\n",
            " |-- PERSONS_VACCINATED_1PLUS_DOSE: integer (nullable = true)\n",
            " |-- TOTAL_VACCINATIONS_PER100: double (nullable = true)\n",
            " |-- PERSONS_VACCINATED_1PLUS_DOSE_PER100: double (nullable = true)\n",
            " |-- PERSONS_FULLY_VACCINATED: integer (nullable = true)\n",
            " |-- PERSONS_FULLY_VACCINATED_PER100: double (nullable = true)\n",
            " |-- VACCINES_USED: string (nullable = true)\n",
            " |-- FIRST_VACCINE_DATE: string (nullable = true)\n",
            " |-- NUMBER_VACCINES_TYPES_USED: integer (nullable = true)\n",
            "\n"
          ],
          "name": "stdout"
        }
      ]
    },
    {
      "cell_type": "code",
      "metadata": {
        "id": "I3-kDW6zzoe2"
      },
      "source": [
        ""
      ],
      "execution_count": null,
      "outputs": []
    }
  ]
}