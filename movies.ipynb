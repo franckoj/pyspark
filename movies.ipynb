{
  "nbformat": 4,
  "nbformat_minor": 0,
  "metadata": {
    "colab": {
      "name": "movies.ipynb",
      "provenance": [],
      "authorship_tag": "ABX9TyOlaK/l/ZjonudWCFPZbJqD",
      "include_colab_link": true
    },
    "kernelspec": {
      "display_name": "Python 3",
      "name": "python3"
    },
    "language_info": {
      "name": "python"
    }
  },
  "cells": [
    {
      "cell_type": "markdown",
      "metadata": {
        "id": "view-in-github",
        "colab_type": "text"
      },
      "source": [
        "<a href=\"https://colab.research.google.com/github/franckoj/pyspark/blob/main/movies.ipynb\" target=\"_parent\"><img src=\"https://colab.research.google.com/assets/colab-badge.svg\" alt=\"Open In Colab\"/></a>"
      ]
    },
    {
      "cell_type": "code",
      "metadata": {
        "id": "T2vFdInY6alj"
      },
      "source": [
        "!pip install pyspark"
      ],
      "execution_count": null,
      "outputs": []
    },
    {
      "cell_type": "code",
      "metadata": {
        "id": "in8pXmc76d9l"
      },
      "source": [
        "from pyspark.sql import SparkSession\n",
        "from pyspark.sql.functions import *\n",
        "from pyspark.sql import *\n",
        "spark=SparkSession.builder.appName('Usecase5').getOrCreate()"
      ],
      "execution_count": null,
      "outputs": []
    },
    {
      "cell_type": "code",
      "metadata": {
        "id": "AcVV3DmD6f-H"
      },
      "source": [
        "!wget https://files.grouplens.org/datasets/movielens/ml-100k.zip\n",
        "!unzip ml-100k.zip"
      ],
      "execution_count": null,
      "outputs": []
    },
    {
      "cell_type": "code",
      "metadata": {
        "id": "kkY3e_d56lc0"
      },
      "source": [
        "schema_item = 'movie_id long, movie_title string,releasedate string, videoreleasedate long,IMDbURL string, unknown string , Action string, Adventure string, Animation string,Childrens string, Comedy string, Crime string, Documentary string, Drama string, Fantasy string,FilmNoir string, Horror string, Musical string, Mystery string, Romance string, SciFi string,Thriller string, War string, Western string'\n",
        "df_item = spark.read.csv('/content/ml-100k/u.item',sep='|',schema=schema_item)\\\n",
        ".withColumn('year',regexp_extract(col('movie_title'),'(\\d{4})',1))\\\n",
        ".select('movie_id','movie_title','year')"
      ],
      "execution_count": null,
      "outputs": []
    },
    {
      "cell_type": "code",
      "metadata": {
        "colab": {
          "base_uri": "https://localhost:8080/"
        },
        "id": "-s8vjZPGHKs_",
        "outputId": "11c2400c-30ee-4a7e-c581-ed31c7ce2422"
      },
      "source": [
        "joined.groupBy('unknown','Action','Adventure','Animation','Childrens','Comedy','Crime','Documentary','Drama','Fantasy','FilmNoir','Horror','Musical','Mystery','Romance','SciFi','Thriller','War','Western').agg(mean('rating')).show(3)"
      ],
      "execution_count": null,
      "outputs": [
        {
          "output_type": "stream",
          "text": [
            "+-------+------+---------+---------+---------+------+-----+-----------+-----+-------+--------+------+-------+-------+-------+-----+--------+---+-------+------------------+\n",
            "|unknown|Action|Adventure|Animation|Childrens|Comedy|Crime|Documentary|Drama|Fantasy|FilmNoir|Horror|Musical|Mystery|Romance|SciFi|Thriller|War|Western|       avg(rating)|\n",
            "+-------+------+---------+---------+---------+------+-----+-----------+-----+-------+--------+------+-------+-------+-------+-----+--------+---+-------+------------------+\n",
            "|      0|     1|        0|        0|        0|     1|    0|          0|    0|      0|       0|     0|      1|      0|      0|    0|       0|  0|      0|3.7347670250896057|\n",
            "|      0|     0|        0|        0|        0|     1|    1|          0|    0|      1|       0|     0|      0|      0|      0|    0|       0|  0|      0| 3.193798449612403|\n",
            "|      0|     0|        0|        0|        0|     1|    0|          0|    0|      0|       0|     0|      0|      1|      0|    0|       1|  0|      0| 4.078260869565217|\n",
            "+-------+------+---------+---------+---------+------+-----+-----------+-----+-------+--------+------+-------+-------+-------+-----+--------+---+-------+------------------+\n",
            "only showing top 3 rows\n",
            "\n"
          ],
          "name": "stdout"
        }
      ]
    },
    {
      "cell_type": "code",
      "metadata": {
        "id": "sJTzBxLCLrQv"
      },
      "source": [
        "joined.groupBy('Comedy').agg(mean('rating')).show()"
      ],
      "execution_count": null,
      "outputs": []
    },
    {
      "cell_type": "code",
      "metadata": {
        "id": "hgil2RrHKJIn"
      },
      "source": [
        " joined=df_item.join(df_data, df_data.item_id == df_item.movie_id)"
      ],
      "execution_count": null,
      "outputs": []
    },
    {
      "cell_type": "code",
      "metadata": {
        "id": "-3jy6SIl7yrv"
      },
      "source": [
        "schema_data = 'user_id string, item_id long, rating int, timestamp bigint'\n",
        "df_data = spark.read.csv('/content/ml-100k/u.data',sep='\\t', schema=schema_data)\\\n",
        ".withColumn('date',from_unixtime('timestamp', format='yyyy-MM-dd'))\\\n",
        ".select('item_id','rating','date')"
      ],
      "execution_count": null,
      "outputs": []
    },
    {
      "cell_type": "code",
      "metadata": {
        "id": "yCjN4x_TOKod"
      },
      "source": [
        "rating_count = df_data.groupBy('item_id').agg(count('rating').alias('user_rating_count'))"
      ],
      "execution_count": null,
      "outputs": []
    },
    {
      "cell_type": "code",
      "metadata": {
        "id": "QuxTsEQ7OqWZ"
      },
      "source": [
        "joined = df_item.join(rating_count, df_item.movie_id == rating_count.item_id).select('movie_title','year','user_rating_count')"
      ],
      "execution_count": null,
      "outputs": []
    },
    {
      "cell_type": "code",
      "metadata": {
        "colab": {
          "base_uri": "https://localhost:8080/"
        },
        "id": "mMjtJhVBPKKX",
        "outputId": "5f4d9d8b-d2bd-4cff-90e3-164363efcd1e"
      },
      "source": [
        "joined.show(3)"
      ],
      "execution_count": null,
      "outputs": [
        {
          "output_type": "stream",
          "text": [
            "+--------+--------------------+----+-------+-------------+\n",
            "|movie_id|         movie_title|year|item_id|count(rating)|\n",
            "+--------+--------------------+----+-------+-------------+\n",
            "|     474|Dr. Strangelove o...|1963|    474|          194|\n",
            "|      29|Batman Forever (1...|1995|     29|          114|\n",
            "|      26|Brothers McMullen...|1995|     26|           73|\n",
            "+--------+--------------------+----+-------+-------------+\n",
            "only showing top 3 rows\n",
            "\n"
          ],
          "name": "stdout"
        }
      ]
    },
    {
      "cell_type": "code",
      "metadata": {
        "colab": {
          "base_uri": "https://localhost:8080/"
        },
        "id": "ytxuJiPdPmm7",
        "outputId": "a3e0f17b-1395-4a5f-d436-abed458c9f88"
      },
      "source": [
        "joined.printSchema()"
      ],
      "execution_count": null,
      "outputs": [
        {
          "output_type": "stream",
          "text": [
            "root\n",
            " |-- movie_id: long (nullable = true)\n",
            " |-- movie_title: string (nullable = true)\n",
            " |-- year: string (nullable = true)\n",
            " |-- item_id: long (nullable = true)\n",
            " |-- count(rating): long (nullable = false)\n",
            "\n"
          ],
          "name": "stdout"
        }
      ]
    },
    {
      "cell_type": "code",
      "metadata": {
        "id": "_BRHPTTdTU_d"
      },
      "source": [
        " decade_67 = joined.where((joined.year >= '1960') & (joined.year < '1970')).sort(desc('user_rating_count')).take(1)"
      ],
      "execution_count": null,
      "outputs": []
    },
    {
      "cell_type": "code",
      "metadata": {
        "id": "z8U0g3E-Qb2f"
      },
      "source": [
        "decade_78 = joined.where((joined.year >= '1970') & (joined.year < '1980')).sort(desc('user_rating_count')).take(1)"
      ],
      "execution_count": null,
      "outputs": []
    },
    {
      "cell_type": "code",
      "metadata": {
        "id": "EE98vHl0SQ7g"
      },
      "source": [
        "decade_89 = joined.where((joined.year >= '1980') & (joined.year < '1990')).sort(desc('user_rating_count')).take(1)"
      ],
      "execution_count": null,
      "outputs": []
    },
    {
      "cell_type": "code",
      "metadata": {
        "id": "adK04tbPS_ii"
      },
      "source": [
        " decade_01 = joined.where((joined.year >= '2000') & (joined.year < '2010')).sort(desc('user_rating_count')).take(1)"
      ],
      "execution_count": null,
      "outputs": []
    },
    {
      "cell_type": "code",
      "metadata": {
        "id": "28u3MBIvS1Jz"
      },
      "source": [
        " decade_90 = joined.where((joined.year >= '1990') & (joined.year < '2000')).sort(desc('user_rating_count')).take(1)"
      ],
      "execution_count": null,
      "outputs": []
    },
    {
      "cell_type": "code",
      "metadata": {
        "id": "5O8Y1p37Tvzj"
      },
      "source": [
        " \n",
        "data = decade_90,decade_67,decade_78,decade_89,decade_90\n",
        "df = spark.createDataFrame([decade_67,decade_78,decade_89,decade_90]).toDF(\"col1\")\n",
        "#df.write.format('text').save('movie_ratinss')"
      ],
      "execution_count": null,
      "outputs": []
    },
    {
      "cell_type": "code",
      "metadata": {
        "colab": {
          "base_uri": "https://localhost:8080/",
          "height": 286
        },
        "id": "5x-URa74jwAH",
        "outputId": "5aa2c633-a26e-4030-8082-f80459d0aa2a"
      },
      "source": [
        "df1.select(col('col1').split('col1',','))"
      ],
      "execution_count": null,
      "outputs": [
        {
          "output_type": "error",
          "ename": "TypeError",
          "evalue": "ignored",
          "traceback": [
            "\u001b[0;31m---------------------------------------------------------------------------\u001b[0m",
            "\u001b[0;31mTypeError\u001b[0m                                 Traceback (most recent call last)",
            "\u001b[0;32m<ipython-input-201-ea154d7d1c56>\u001b[0m in \u001b[0;36m<module>\u001b[0;34m()\u001b[0m\n\u001b[0;32m----> 1\u001b[0;31m \u001b[0mdf1\u001b[0m\u001b[0;34m.\u001b[0m\u001b[0mselect\u001b[0m\u001b[0;34m(\u001b[0m\u001b[0mcol\u001b[0m\u001b[0;34m(\u001b[0m\u001b[0;34m'col1'\u001b[0m\u001b[0;34m)\u001b[0m\u001b[0;34m.\u001b[0m\u001b[0msplit\u001b[0m\u001b[0;34m(\u001b[0m\u001b[0;34m'col1'\u001b[0m\u001b[0;34m,\u001b[0m\u001b[0;34m','\u001b[0m\u001b[0;34m)\u001b[0m\u001b[0;34m)\u001b[0m\u001b[0;34m\u001b[0m\u001b[0;34m\u001b[0m\u001b[0m\n\u001b[0m",
            "\u001b[0;31mTypeError\u001b[0m: 'Column' object is not callable"
          ]
        }
      ]
    },
    {
      "cell_type": "code",
      "metadata": {
        "id": "Y8TeZlEUkxRx"
      },
      "source": [
        "split_col = split(df1['col1'], ',')\n",
        "df2 = df1.withColumn('movie_title', split_col.getItem(0,)).select('movie_title')\n",
        "df3 = df1.withColumn('year', split_col.getItem(1)).select('year')\n",
        "df4 =df1.withColumn('count',split_col.getItem(2)).select('count')"
      ],
      "execution_count": null,
      "outputs": []
    },
    {
      "cell_type": "code",
      "metadata": {
        "colab": {
          "base_uri": "https://localhost:8080/"
        },
        "id": "GNY2vYagm3Rf",
        "outputId": "36149e8b-9644-43a5-b6c8-c2366db2a4b7"
      },
      "source": [
        "df2.join(df3).show()"
      ],
      "execution_count": null,
      "outputs": [
        {
          "output_type": "stream",
          "text": [
            "+--------------------+-----+\n",
            "|         movie_title| year|\n",
            "+--------------------+-----+\n",
            "|      {Psycho (1960)| 1960|\n",
            "|      {Psycho (1960)| 1977|\n",
            "|   {Star Wars (1977)| 1960|\n",
            "|   {Star Wars (1977)| 1977|\n",
            "|      {Psycho (1960)| 1983|\n",
            "|      {Psycho (1960)| 1997|\n",
            "|   {Star Wars (1977)| 1983|\n",
            "|   {Star Wars (1977)| 1997|\n",
            "|{Return of the Je...| 1960|\n",
            "|{Return of the Je...| 1977|\n",
            "|     {Contact (1997)| 1960|\n",
            "|     {Contact (1997)| 1977|\n",
            "|{Return of the Je...| 1983|\n",
            "|{Return of the Je...| 1997|\n",
            "|     {Contact (1997)| 1983|\n",
            "|     {Contact (1997)| 1997|\n",
            "+--------------------+-----+\n",
            "\n"
          ],
          "name": "stdout"
        }
      ]
    },
    {
      "cell_type": "code",
      "metadata": {
        "id": "fBetwxd6fQg4"
      },
      "source": [
        "df1 = df.withColumn('col1', df.col1.cast(\"string\"))"
      ],
      "execution_count": null,
      "outputs": []
    },
    {
      "cell_type": "code",
      "metadata": {
        "colab": {
          "base_uri": "https://localhost:8080/",
          "height": 249
        },
        "id": "Nq5E4iAqXwpE",
        "outputId": "5eda857c-4075-4b88-9153-1127a0d8060b"
      },
      "source": [
        "decade_67"
      ],
      "execution_count": null,
      "outputs": [
        {
          "output_type": "error",
          "ename": "TypeError",
          "evalue": "ignored",
          "traceback": [
            "\u001b[0;31m---------------------------------------------------------------------------\u001b[0m",
            "\u001b[0;31mTypeError\u001b[0m                                 Traceback (most recent call last)",
            "\u001b[0;32m<ipython-input-158-49dad74fba4f>\u001b[0m in \u001b[0;36m<module>\u001b[0;34m()\u001b[0m\n\u001b[0;32m----> 1\u001b[0;31m \u001b[0mdecade_67\u001b[0m\u001b[0;34m(\u001b[0m\u001b[0;34m)\u001b[0m\u001b[0;34m\u001b[0m\u001b[0;34m\u001b[0m\u001b[0m\n\u001b[0m",
            "\u001b[0;31mTypeError\u001b[0m: 'list' object is not callable"
          ]
        }
      ]
    },
    {
      "cell_type": "code",
      "metadata": {
        "id": "31XzXm2dDIok"
      },
      "source": [
        "##df_data.select(df_data.date.cast('date').alias('new_date')).filter(col('new_date')=='').count()"
      ],
      "execution_count": null,
      "outputs": []
    },
    {
      "cell_type": "code",
      "metadata": {
        "colab": {
          "base_uri": "https://localhost:8080/"
        },
        "id": "IjOuQcEAbtMN",
        "outputId": "dfae4786-307c-4616-9945-efc041ea8c28"
      },
      "source": [
        "##df_data.where((df_data.date > '1979') | (df_data.date < '1980')).show(4)"
      ],
      "execution_count": null,
      "outputs": [
        {
          "output_type": "stream",
          "text": [
            "+-------+------+----------+\n",
            "|item_id|rating|      date|\n",
            "+-------+------+----------+\n",
            "|    242|     3|1997-12-04|\n",
            "|    302|     3|1998-04-04|\n",
            "|    377|     1|1997-11-07|\n",
            "|     51|     2|1997-11-27|\n",
            "+-------+------+----------+\n",
            "only showing top 4 rows\n",
            "\n"
          ],
          "name": "stdout"
        }
      ]
    },
    {
      "cell_type": "code",
      "metadata": {
        "id": "wV_cUyZdJjwP"
      },
      "source": [
        "agg_data = df_data.groupby('item_id').agg(mean('rating').alias('average_rating'),\\\n",
        "                               min('rating').alias('lowest_rating'),\\\n",
        "                               max('rating').alias('highest_rating'))"
      ],
      "execution_count": null,
      "outputs": []
    },
    {
      "cell_type": "code",
      "metadata": {
        "colab": {
          "base_uri": "https://localhost:8080/"
        },
        "id": "6fRTIryXM-px",
        "outputId": "1dfef727-379a-4190-c833-c286c4dddf90"
      },
      "source": [
        "agg_data.show(5)"
      ],
      "execution_count": null,
      "outputs": [
        {
          "output_type": "stream",
          "text": [
            "+-------+------------------+-------------+--------------+\n",
            "|item_id|    average_rating|lowest_rating|highest_rating|\n",
            "+-------+------------------+-------------+--------------+\n",
            "|    474| 4.252577319587629|            2|             5|\n",
            "|     29|2.6666666666666665|            1|             5|\n",
            "|     26| 3.452054794520548|            1|             5|\n",
            "|    964|3.3333333333333335|            1|             5|\n",
            "|   1677|               3.0|            3|             3|\n",
            "+-------+------------------+-------------+--------------+\n",
            "only showing top 5 rows\n",
            "\n"
          ],
          "name": "stdout"
        }
      ]
    },
    {
      "cell_type": "code",
      "metadata": {
        "id": "LNTLf4g7M6tj"
      },
      "source": [
        "usecase_8 = agg_data.join(df_item, agg_data.item_id==df_item.movie_id)\\\n",
        ".select('movie_id','movie_title','year','average_rating','lowest_rating','highest_rating').sort('movie_id')"
      ],
      "execution_count": null,
      "outputs": []
    },
    {
      "cell_type": "code",
      "metadata": {
        "id": "9cKZXVDJCHY5"
      },
      "source": [
        "usecase_8.repartition(1).write.option('header',True).csv('movie_ratingss')"
      ],
      "execution_count": null,
      "outputs": []
    },
    {
      "cell_type": "code",
      "metadata": {
        "id": "q-MGet56I688",
        "colab": {
          "base_uri": "https://localhost:8080/"
        },
        "outputId": "727b76e7-92b3-42dd-dd4f-4bf0b6a76bcd"
      },
      "source": [
        "joined=df_data.join(df_item, df_data.item_id== df_item.movie_id).show()"
      ],
      "execution_count": null,
      "outputs": [
        {
          "output_type": "stream",
          "text": [
            "+-------+------+----------+--------+--------------------+\n",
            "|item_id|rating|      date|movie_id|         movie_title|\n",
            "+-------+------+----------+--------+--------------------+\n",
            "|    242|     3|1997-12-04|     242|        Kolya (1996)|\n",
            "|    302|     3|1998-04-04|     302|L.A. Confidential...|\n",
            "|    377|     1|1997-11-07|     377| Heavyweights (1994)|\n",
            "|     51|     2|1997-11-27|      51|Legends of the Fa...|\n",
            "|    346|     1|1998-02-02|     346| Jackie Brown (1997)|\n",
            "|    474|     4|1998-01-07|     474|Dr. Strangelove o...|\n",
            "|    265|     2|1997-12-03|     265|Hunt for Red Octo...|\n",
            "|    465|     5|1998-04-03|     465|Jungle Book, The ...|\n",
            "|    451|     3|1998-02-01|     451|       Grease (1978)|\n",
            "|     86|     3|1997-12-31|      86|Remains of the Da...|\n",
            "|    257|     2|1997-11-12|     257| Men in Black (1997)|\n",
            "|   1014|     5|1997-11-17|    1014|Romy and Michele'...|\n",
            "|    222|     5|1997-10-05|     222|Star Trek: First ...|\n",
            "|     40|     3|1998-03-27|      40|To Wong Foo, Than...|\n",
            "|     29|     3|1998-02-21|      29|Batman Forever (1...|\n",
            "|    785|     3|1997-11-14|     785|     Only You (1994)|\n",
            "|    387|     5|1997-11-11|     387|Age of Innocence,...|\n",
            "|    274|     2|1997-11-14|     274|      Sabrina (1995)|\n",
            "|   1042|     4|1997-09-21|    1042|   Just Cause (1995)|\n",
            "|   1184|     2|1998-04-08|    1184|Endless Summer 2,...|\n",
            "+-------+------+----------+--------+--------------------+\n",
            "only showing top 20 rows\n",
            "\n"
          ],
          "name": "stdout"
        }
      ]
    },
    {
      "cell_type": "code",
      "metadata": {
        "colab": {
          "base_uri": "https://localhost:8080/",
          "height": 163
        },
        "id": "KkpKgSOhJz_V",
        "outputId": "2dad03ab-f3d8-46d6-8a90-0667d8e16a0e"
      },
      "source": [
        "joined.printSchema()"
      ],
      "execution_count": null,
      "outputs": [
        {
          "output_type": "error",
          "ename": "AttributeError",
          "evalue": "ignored",
          "traceback": [
            "\u001b[0;31m---------------------------------------------------------------------------\u001b[0m",
            "\u001b[0;31mAttributeError\u001b[0m                            Traceback (most recent call last)",
            "\u001b[0;32m<ipython-input-14-d556efac24fd>\u001b[0m in \u001b[0;36m<module>\u001b[0;34m()\u001b[0m\n\u001b[0;32m----> 1\u001b[0;31m \u001b[0mjoined\u001b[0m\u001b[0;34m.\u001b[0m\u001b[0mprintSchema\u001b[0m\u001b[0;34m(\u001b[0m\u001b[0;34m)\u001b[0m\u001b[0;34m\u001b[0m\u001b[0;34m\u001b[0m\u001b[0m\n\u001b[0m",
            "\u001b[0;31mAttributeError\u001b[0m: 'NoneType' object has no attribute 'printSchema'"
          ]
        }
      ]
    },
    {
      "cell_type": "code",
      "metadata": {
        "id": "yzjhSRQRJwdv"
      },
      "source": [
        "joined.select('movie_id').count()"
      ],
      "execution_count": null,
      "outputs": []
    },
    {
      "cell_type": "code",
      "metadata": {
        "id": "e8D0Ypxh_2qx"
      },
      "source": [
        "df2.groupBy('itemid').agg(F.desc('itemid')).show()"
      ],
      "execution_count": null,
      "outputs": []
    },
    {
      "cell_type": "code",
      "metadata": {
        "id": "wAlWFELv-S4Z"
      },
      "source": [
        "joined_df = df1.crossJoin(df2)"
      ],
      "execution_count": null,
      "outputs": []
    },
    {
      "cell_type": "code",
      "metadata": {
        "id": "FIkXkObd-hCj"
      },
      "source": [
        "joined_df.show(4)"
      ],
      "execution_count": null,
      "outputs": []
    },
    {
      "cell_type": "markdown",
      "metadata": {
        "id": "iCTxMhtcTEC4"
      },
      "source": [
        "172800000,315360000"
      ]
    },
    {
      "cell_type": "code",
      "metadata": {
        "id": "yUj1Ll7B-t_F"
      },
      "source": [
        "df1.join(df2, df1.movieid == df2.groupBy('itemid'), 'outer')"
      ],
      "execution_count": null,
      "outputs": []
    },
    {
      "cell_type": "code",
      "metadata": {
        "id": "fF5Iw6U_-jG0"
      },
      "source": [
        "joined_df.summary()"
      ],
      "execution_count": null,
      "outputs": []
    },
    {
      "cell_type": "code",
      "metadata": {
        "id": "Sd06_AB8SBXJ"
      },
      "source": [
        "joined_df.groupBy('itemid').agg(F.mean('rating').alias('user_ratings')).show()"
      ],
      "execution_count": null,
      "outputs": []
    },
    {
      "cell_type": "code",
      "metadata": {
        "id": "ZOwF4iXqTs7P"
      },
      "source": [
        "f="
      ],
      "execution_count": null,
      "outputs": []
    },
    {
      "cell_type": "code",
      "metadata": {
        "id": "R-anGt2ZT5WS"
      },
      "source": [
        "df4=df2.groupBy('itemid').agg(F.mean('rating').alias('user_ratings'))"
      ],
      "execution_count": null,
      "outputs": []
    },
    {
      "cell_type": "code",
      "metadata": {
        "id": "1cM4LTr4Ygbp"
      },
      "source": [
        "df5=df4.join(df3)"
      ],
      "execution_count": null,
      "outputs": []
    },
    {
      "cell_type": "code",
      "metadata": {
        "id": "zM2kHTtphTHh"
      },
      "source": [
        "dd=df5.select('itemid','user_ratings')"
      ],
      "execution_count": null,
      "outputs": []
    },
    {
      "cell_type": "code",
      "metadata": {
        "id": "B0TNQXZmg_8M"
      },
      "source": [
        "dfdate=df5.withColumn('date',F.from_unixtime('timestamp','yyyy-MM-dd')).select('date')"
      ],
      "execution_count": null,
      "outputs": []
    },
    {
      "cell_type": "code",
      "metadata": {
        "id": "YB4yDOaFhriY"
      },
      "source": [
        "dd.join(dfdate).show()"
      ],
      "execution_count": null,
      "outputs": []
    },
    {
      "cell_type": "code",
      "metadata": {
        "id": "AkAneTE_ZMUb"
      },
      "source": [
        "df6=df5.where((df5.timestamp >315532800) & (df5.timestamp<631152000))"
      ],
      "execution_count": null,
      "outputs": []
    },
    {
      "cell_type": "code",
      "metadata": {
        "id": "oYbn10TWdnZU"
      },
      "source": [
        "df6.withColumn('date',F.from_unixtime('timestamp','yyyy-MM-dd')).show()"
      ],
      "execution_count": null,
      "outputs": []
    },
    {
      "cell_type": "code",
      "metadata": {
        "id": "gfDVuGJschgG"
      },
      "source": [
        "from_date ='1980-1-1'\n",
        "to_date = '1990-1-1'\n",
        "import datetime\n",
        "#convert string to datetimeformat\n",
        "f_date = datetime.datetime.strptime(from_date, \"%Y-%m-%d\")\n",
        "t_date = datetime.datetime.strptime(to_date, \"%Y-%m-%d\")\n",
        "  \n",
        "#convert datetime to timestamp\n",
        "  \n",
        "ft_date = int(datetime.datetime.timestamp(f_date))\n",
        "tt_date = int(datetime.datetime.timestamp(t_date))\n",
        "print(ft_date)\n",
        "print(tt_date)"
      ],
      "execution_count": null,
      "outputs": []
    }
  ]
}