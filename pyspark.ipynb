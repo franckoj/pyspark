{
  "nbformat": 4,
  "nbformat_minor": 0,
  "metadata": {
    "colab": {
      "name": "pyspark.ipynb",
      "provenance": [],
      "authorship_tag": "ABX9TyPvcCXHKxDSmjKQasijYxyp",
      "include_colab_link": true
    },
    "kernelspec": {
      "name": "python3",
      "display_name": "Python 3"
    },
    "language_info": {
      "name": "python"
    }
  },
  "cells": [
    {
      "cell_type": "markdown",
      "metadata": {
        "id": "view-in-github",
        "colab_type": "text"
      },
      "source": [
        "<a href=\"https://colab.research.google.com/github/franckoj/pyspark/blob/main/pyspark.ipynb\" target=\"_parent\"><img src=\"https://colab.research.google.com/assets/colab-badge.svg\" alt=\"Open In Colab\"/></a>"
      ]
    },
    {
      "cell_type": "code",
      "metadata": {
        "colab": {
          "base_uri": "https://localhost:8080/"
        },
        "id": "RkMBh1Xracut",
        "outputId": "44edfe66-4b46-4f53-dbc1-9c31dd12db14"
      },
      "source": [
        "!pip install pyspark"
      ],
      "execution_count": 2,
      "outputs": [
        {
          "output_type": "stream",
          "text": [
            "Collecting pyspark\n",
            "\u001b[?25l  Downloading https://files.pythonhosted.org/packages/89/db/e18cfd78e408de957821ec5ca56de1250645b05f8523d169803d8df35a64/pyspark-3.1.2.tar.gz (212.4MB)\n",
            "\u001b[K     |████████████████████████████████| 212.4MB 69kB/s \n",
            "\u001b[?25hCollecting py4j==0.10.9\n",
            "\u001b[?25l  Downloading https://files.pythonhosted.org/packages/9e/b6/6a4fb90cd235dc8e265a6a2067f2a2c99f0d91787f06aca4bcf7c23f3f80/py4j-0.10.9-py2.py3-none-any.whl (198kB)\n",
            "\u001b[K     |████████████████████████████████| 204kB 40.2MB/s \n",
            "\u001b[?25hBuilding wheels for collected packages: pyspark\n",
            "  Building wheel for pyspark (setup.py) ... \u001b[?25l\u001b[?25hdone\n",
            "  Created wheel for pyspark: filename=pyspark-3.1.2-py2.py3-none-any.whl size=212880768 sha256=83a8f74b966de10d584a95639fbbcd905611296f8328ae34c91c9ccc73211c74\n",
            "  Stored in directory: /root/.cache/pip/wheels/40/1b/2c/30f43be2627857ab80062bef1527c0128f7b4070b6b2d02139\n",
            "Successfully built pyspark\n",
            "Installing collected packages: py4j, pyspark\n",
            "Successfully installed py4j-0.10.9 pyspark-3.1.2\n"
          ],
          "name": "stdout"
        }
      ]
    },
    {
      "cell_type": "code",
      "metadata": {
        "id": "No4cMj9_aizq"
      },
      "source": [
        "import pyspark"
      ],
      "execution_count": 3,
      "outputs": []
    },
    {
      "cell_type": "code",
      "metadata": {
        "colab": {
          "base_uri": "https://localhost:8080/"
        },
        "id": "uxoA703CazEa",
        "outputId": "2c4db3e3-7d47-4ebe-8fa3-f4f12673cd67"
      },
      "source": [
        "import pandas as pd\n",
        "type(pd.read_csv('/content/vaccination-data.csv'))"
      ],
      "execution_count": 5,
      "outputs": [
        {
          "output_type": "execute_result",
          "data": {
            "text/plain": [
              "pandas.core.frame.DataFrame"
            ]
          },
          "metadata": {
            "tags": []
          },
          "execution_count": 5
        }
      ]
    },
    {
      "cell_type": "code",
      "metadata": {
        "id": "AH1aZbYlbXge"
      },
      "source": [
        "from pyspark.sql import SparkSession"
      ],
      "execution_count": 6,
      "outputs": []
    },
    {
      "cell_type": "code",
      "metadata": {
        "id": "UFP6GtHnb9w9"
      },
      "source": [
        "spark=SparkSession.builder.appName('Practice').getOrCreate()"
      ],
      "execution_count": 7,
      "outputs": []
    },
    {
      "cell_type": "code",
      "metadata": {
        "id": "jbJgflVhcNHt"
      },
      "source": [
        "df_file=spark.read.csv('/content/vaccination-data.csv')"
      ],
      "execution_count": 8,
      "outputs": []
    },
    {
      "cell_type": "code",
      "metadata": {
        "colab": {
          "base_uri": "https://localhost:8080/"
        },
        "id": "XPx2RxUscaI2",
        "outputId": "64ac3215-d1e7-412b-a21f-22644ed35ac3"
      },
      "source": [
        "type(df_file)"
      ],
      "execution_count": null,
      "outputs": [
        {
          "output_type": "execute_result",
          "data": {
            "text/plain": [
              "pyspark.sql.dataframe.DataFrame"
            ]
          },
          "metadata": {
            "tags": []
          },
          "execution_count": 18
        }
      ]
    },
    {
      "cell_type": "code",
      "metadata": {
        "colab": {
          "base_uri": "https://localhost:8080/"
        },
        "id": "pOVqa7A_ciK_",
        "outputId": "91629d21-fa81-4bf4-efb3-624a2124c17a"
      },
      "source": [
        "df_file.show()"
      ],
      "execution_count": 9,
      "outputs": [
        {
          "output_type": "stream",
          "text": [
            "+-------------------+----+----------+-----------+------------+------------------+--------------------+--------------------+--------------------+--------------------+--------------------+--------------------+------------------+--------------------+\n",
            "|                _c0| _c1|       _c2|        _c3|         _c4|               _c5|                 _c6|                 _c7|                 _c8|                 _c9|                _c10|                _c11|              _c12|                _c13|\n",
            "+-------------------+----+----------+-----------+------------+------------------+--------------------+--------------------+--------------------+--------------------+--------------------+--------------------+------------------+--------------------+\n",
            "|            COUNTRY|ISO3|WHO_REGION|DATA_SOURCE|DATE_UPDATED|TOTAL_VACCINATIONS|PERSONS_VACCINATE...|TOTAL_VACCINATION...|PERSONS_VACCINATE...|PERSONS_FULLY_VAC...|PERSONS_FULLY_VAC...|       VACCINES_USED|FIRST_VACCINE_DATE|NUMBER_VACCINES_T...|\n",
            "|        Afghanistan| AFG|      EMRO|  REPORTING|  2021-07-07|            934463|              735213|                 2.4|               1.889|              199250|               0.512|Beijing CNBG - BB...|        2021-02-22|                   3|\n",
            "|            Albania| ALB|      EURO|  REPORTING|  2021-07-04|            978574|              565807|                  34|              19.661|              412767|              14.343|AstraZeneca - Vax...|        2021-01-13|                   5|\n",
            "|            Algeria| DZA|      AFRO|  REPORTING|  2021-07-05|              null|                null|                null|                null|                null|                null|Beijing CNBG - BB...|        2021-01-30|                   3|\n",
            "|     American Samoa| ASM|      WPRO|  REPORTING|  2021-06-21|             44293|               24408|              80.245|               44.22|               20021|              36.272|Janssen - Ad26.CO...|        2020-12-21|                   3|\n",
            "|            Andorra| AND|      EURO|  REPORTING|  2021-07-04|             70025|               44999|                90.6|               58.24|               25026|               32.39|AstraZeneca - Vax...|        2021-01-20|                   2|\n",
            "|             Angola| AGO|      AFRO|  REPORTING|  2021-07-05|           1513460|              951772|               4.605|               2.896|              561688|               1.709|    SII - Covishield|        2021-03-10|                   1|\n",
            "|           Anguilla| AIA|      AMRO|  REPORTING|  2021-07-02|             16460|                9300|             109.719|              61.992|                7160|              47.727|AstraZeneca - Vax...|        2021-02-05|                   1|\n",
            "|Antigua and Barbuda| ATG|      AMRO|  REPORTING|  2021-07-02|             64617|               37054|              65.984|              37.838|               27563|              28.146|AstraZeneca - Vax...|        2021-02-19|                   2|\n",
            "|          Argentina| ARG|      AMRO|  REPORTING|  2021-07-02|          21310026|            17106617|               47.15|               37.85|             4203409|                 9.3|AstraZeneca - Vax...|        2020-12-29|                   4|\n",
            "|            Armenia| ARM|      EURO|  REPORTING|  2021-07-04|            227172|              177518|                 7.7|               5.991|               49654|               1.676|AstraZeneca - Vax...|        2021-06-16|                   3|\n",
            "|              Aruba| ABW|      AMRO|  REPORTING|  2021-07-02|            126979|               67750|             118.932|              63.457|               59229|              55.476|Janssen - Ad26.CO...|        2021-02-17|                   2|\n",
            "|          Australia| AUS|      WPRO|  REPORTING|  2021-06-28|           7500700|             6633179|              29.415|              26.013|              867521|               3.402|AstraZeneca - Vax...|        2021-02-21|                   3|\n",
            "|            Austria| AUT|      EURO|  REPORTING|  2021-07-04|           8244101|             4880857|                92.6|              54.835|             3236893|              37.785|AstraZeneca - Vax...|        2020-12-30|                   4|\n",
            "|         Azerbaijan| AZE|      EURO|  REPORTING|  2021-07-04|           3792227|             2344420|                37.4|              23.122|             1447807|              14.279|AstraZeneca - Vax...|        2021-01-20|                   4|\n",
            "|            Bahamas| BHS|      AMRO|  REPORTING|  2021-07-02|             91067|               58122|              23.158|               14.78|               32945|               8.378|AstraZeneca - Vax...|        2021-03-14|                   2|\n",
            "|            Bahrain| BHR|      EMRO|  REPORTING|  2021-07-08|           2090755|             1079873|             122.872|              63.463|             1010882|              59.409|AstraZeneca - Vax...|        2020-12-25|                   7|\n",
            "|         Bangladesh| BGD|     SEARO|  REPORTING|  2021-07-06|          10215638|             5920220|               6.203|               3.595|             4295418|               2.608|Beijing CNBG - BB...|        2021-01-27|                   4|\n",
            "|           Barbados| BRB|      AMRO|  REPORTING|  2021-07-02|            166567|               95386|              57.962|              33.192|               71181|              24.769|AstraZeneca - Vax...|        2021-02-10|                   2|\n",
            "|            Belarus| BLR|      EURO|  REPORTING|  2021-06-13|           1068413|              699141|                11.3|               7.399|              369272|               3.908|Beijing CNBG - BB...|        2021-02-03|                   2|\n",
            "+-------------------+----+----------+-----------+------------+------------------+--------------------+--------------------+--------------------+--------------------+--------------------+--------------------+------------------+--------------------+\n",
            "only showing top 20 rows\n",
            "\n"
          ],
          "name": "stdout"
        }
      ]
    },
    {
      "cell_type": "code",
      "metadata": {
        "id": "4fSH3tCTcw0q"
      },
      "source": [
        "df_file=spark.read.option('header','true').csv('/content/vaccination-data.csv')"
      ],
      "execution_count": 10,
      "outputs": []
    },
    {
      "cell_type": "code",
      "metadata": {
        "colab": {
          "base_uri": "https://localhost:8080/"
        },
        "id": "HWiRT_5-dXZn",
        "outputId": "398b228d-cc8e-4469-fdf8-bc66988e8122"
      },
      "source": [
        "type(df_file)"
      ],
      "execution_count": 11,
      "outputs": [
        {
          "output_type": "execute_result",
          "data": {
            "text/plain": [
              "pyspark.sql.dataframe.DataFrame"
            ]
          },
          "metadata": {
            "tags": []
          },
          "execution_count": 11
        }
      ]
    },
    {
      "cell_type": "code",
      "metadata": {
        "colab": {
          "base_uri": "https://localhost:8080/"
        },
        "id": "q8tK3lJ3dyOj",
        "outputId": "8cbec973-0fb2-496f-9fb7-e3d9660cb453"
      },
      "source": [
        "df_file.head()"
      ],
      "execution_count": 12,
      "outputs": [
        {
          "output_type": "execute_result",
          "data": {
            "text/plain": [
              "Row(COUNTRY='Afghanistan', ISO3='AFG', WHO_REGION='EMRO', DATA_SOURCE='REPORTING', DATE_UPDATED='2021-07-07', TOTAL_VACCINATIONS='934463', PERSONS_VACCINATED_1PLUS_DOSE='735213', TOTAL_VACCINATIONS_PER100='2.4', PERSONS_VACCINATED_1PLUS_DOSE_PER100='1.889', PERSONS_FULLY_VACCINATED='199250', PERSONS_FULLY_VACCINATED_PER100='0.512', VACCINES_USED='Beijing CNBG - BBIBP-CorV,Pfizer BioNTech - Comirnaty,SII - Covishield', FIRST_VACCINE_DATE='2021-02-22', NUMBER_VACCINES_TYPES_USED='3')"
            ]
          },
          "metadata": {
            "tags": []
          },
          "execution_count": 12
        }
      ]
    },
    {
      "cell_type": "code",
      "metadata": {
        "id": "J3MHjUL5Pi-5",
        "colab": {
          "base_uri": "https://localhost:8080/"
        },
        "outputId": "a76045dd-2880-46c9-eb02-fcf98f0f19ae"
      },
      "source": [
        "df_file.printSchema()"
      ],
      "execution_count": 14,
      "outputs": [
        {
          "output_type": "stream",
          "text": [
            "root\n",
            " |-- COUNTRY: string (nullable = true)\n",
            " |-- ISO3: string (nullable = true)\n",
            " |-- WHO_REGION: string (nullable = true)\n",
            " |-- DATA_SOURCE: string (nullable = true)\n",
            " |-- DATE_UPDATED: string (nullable = true)\n",
            " |-- TOTAL_VACCINATIONS: string (nullable = true)\n",
            " |-- PERSONS_VACCINATED_1PLUS_DOSE: string (nullable = true)\n",
            " |-- TOTAL_VACCINATIONS_PER100: string (nullable = true)\n",
            " |-- PERSONS_VACCINATED_1PLUS_DOSE_PER100: string (nullable = true)\n",
            " |-- PERSONS_FULLY_VACCINATED: string (nullable = true)\n",
            " |-- PERSONS_FULLY_VACCINATED_PER100: string (nullable = true)\n",
            " |-- VACCINES_USED: string (nullable = true)\n",
            " |-- FIRST_VACCINE_DATE: string (nullable = true)\n",
            " |-- NUMBER_VACCINES_TYPES_USED: string (nullable = true)\n",
            "\n"
          ],
          "name": "stdout"
        }
      ]
    },
    {
      "cell_type": "code",
      "metadata": {
        "colab": {
          "base_uri": "https://localhost:8080/",
          "height": 217
        },
        "id": "FVcccINoJtTM",
        "outputId": "df81d8e5-9a72-446a-ae15-874dd345de6d"
      },
      "source": [
        "spark"
      ],
      "execution_count": 15,
      "outputs": [
        {
          "output_type": "execute_result",
          "data": {
            "text/html": [
              "\n",
              "            <div>\n",
              "                <p><b>SparkSession - in-memory</b></p>\n",
              "                \n",
              "        <div>\n",
              "            <p><b>SparkContext</b></p>\n",
              "\n",
              "            <p><a href=\"http://b67e7bd939e2:4040\">Spark UI</a></p>\n",
              "\n",
              "            <dl>\n",
              "              <dt>Version</dt>\n",
              "                <dd><code>v3.1.2</code></dd>\n",
              "              <dt>Master</dt>\n",
              "                <dd><code>local[*]</code></dd>\n",
              "              <dt>AppName</dt>\n",
              "                <dd><code>Practice</code></dd>\n",
              "            </dl>\n",
              "        </div>\n",
              "        \n",
              "            </div>\n",
              "        "
            ],
            "text/plain": [
              "<pyspark.sql.session.SparkSession at 0x7f27a44af590>"
            ]
          },
          "metadata": {
            "tags": []
          },
          "execution_count": 15
        }
      ]
    },
    {
      "cell_type": "code",
      "metadata": {
        "id": "NW_5raHAKHcO"
      },
      "source": [
        ""
      ],
      "execution_count": null,
      "outputs": []
    }
  ]
}