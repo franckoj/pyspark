{
  "nbformat": 4,
  "nbformat_minor": 0,
  "metadata": {
    "colab": {
      "name": "usecase_7.py",
      "provenance": [],
      "collapsed_sections": [],
      "authorship_tag": "ABX9TyMcH/SXuRmuDqW4yLsEQUSO",
      "include_colab_link": true
    },
    "kernelspec": {
      "name": "python3",
      "display_name": "Python 3"
    },
    "language_info": {
      "name": "python"
    }
  },
  "cells": [
    {
      "cell_type": "markdown",
      "metadata": {
        "id": "view-in-github",
        "colab_type": "text"
      },
      "source": [
        "<a href=\"https://colab.research.google.com/github/franckoj/pyspark/blob/main/usecase_7_py.ipynb\" target=\"_parent\"><img src=\"https://colab.research.google.com/assets/colab-badge.svg\" alt=\"Open In Colab\"/></a>"
      ]
    },
    {
      "cell_type": "code",
      "metadata": {
        "id": "sVOzqwo2ks4I"
      },
      "source": [
        " !pip install pyspark\n",
        " \n",
        " \n",
        "from pyspark.sql import SparkSession\n",
        "from pyspark.sql.functions import *\n",
        "import pyspark.sql.functions as F\n",
        "from pyspark.sql.types import *\n",
        "spark=SparkSession.builder.appName('UseCase').getOrCreate()\n",
        " \n",
        "!wget https://files.grouplens.org/datasets/movielens/ml-100k.zip\n",
        "!unzip ml-100k.zip"
      ],
      "execution_count": null,
      "outputs": []
    },
    {
      "cell_type": "code",
      "metadata": {
        "id": "ga91WiVlk_5n"
      },
      "source": [
        "schema_item = 'movie_id long, movie_title string,releasedate string, videoreleasedate long,IMDbURL string, unknown string , Action string, Adventure string, Animation string,Childrens string, Comedy string, Crime string, Documentary string, Drama string, Fantasy string,FilmNoir string, Horror string, Musical string, Mystery string, Romance string, SciFi string,Thriller string, War string, Western string'\n",
        "df_item = spark.read.csv('/content/ml-100k/u.item',sep='|',schema=schema_item)\\\n",
        ".withColumn('year',regexp_extract(col('movie_title'),'(\\d{4})',1)).drop('videoreleasedate','IMDbURL','releasedate')\n",
        "#.select('movie_id','movie_title','year')\n",
        " \n",
        "schema_data = 'user_id string, item_id long, rating int, timestamp bigint'\n",
        "df_data = spark.read.csv('/content/ml-100k/u.data',sep='\\t', schema=schema_data)\\\n",
        ".withColumn('date',from_unixtime('timestamp', format='yyyy-MM-dd'))\\\n",
        ".select('item_id','rating','date')"
      ],
      "execution_count": null,
      "outputs": []
    },
    {
      "cell_type": "code",
      "metadata": {
        "id": "wwuIsAlQKtkP"
      },
      "source": [
        "df_item.groupBy('year','unknown','Action','Adventure','Animation','Childrens','Comedy','Crime','Documentary','Drama','Fantasy','FilmNoir','Horror','Musical','Mystery','Romance','SciFi','Thriller','War','Western')\\\n",
        ".agg(count('Action').alias('sum'),max('year')).show()"
      ],
      "execution_count": null,
      "outputs": []
    },
    {
      "cell_type": "code",
      "metadata": {
        "id": "YKFDwPdMFEZ6"
      },
      "source": [
        "list = ['year','unknown','Action','Adventure','Animation','Childrens','Comedy','Crime','Documentary','Drama','Fantasy','FilmNoir','Horror','Musical','Mystery','Romance','SciFi','Thriller','War','Western']\n",
        "l = df_item.groupBy(list)\\\n",
        ".count().alias('uu')"
      ],
      "execution_count": null,
      "outputs": []
    },
    {
      "cell_type": "code",
      "metadata": {
        "id": "LWgU6mY2dOMc"
      },
      "source": [
        "l.orderBy(['year','count'], ascending = False).dropDuplicates(subset=['year']).sort(asc('year')).repartition(1).write.option('header' ,True).csv(\"mov\")"
      ],
      "execution_count": null,
      "outputs": []
    },
    {
      "cell_type": "code",
      "metadata": {
        "colab": {
          "base_uri": "https://localhost:8080/"
        },
        "id": "9uBJ_10h77nL",
        "outputId": "6eadc7ff-ca35-48fc-cccd-9f66cbc9797c"
      },
      "source": [
        "l.filter('Action ==1').count()"
      ],
      "execution_count": null,
      "outputs": [
        {
          "output_type": "execute_result",
          "data": {
            "text/plain": [
              "169"
            ]
          },
          "metadata": {
            "tags": []
          },
          "execution_count": 12
        }
      ]
    },
    {
      "cell_type": "code",
      "metadata": {
        "colab": {
          "base_uri": "https://localhost:8080/"
        },
        "id": "UueOSdRTaZve",
        "outputId": "89a2fa54-cbc6-4c3d-cb2f-9b6b2c654db7"
      },
      "source": [
        "l.join(df_item,list).groupBy('year').count().filter('year==1995').show()"
      ],
      "execution_count": null,
      "outputs": [
        {
          "output_type": "stream",
          "text": [
            "+----+-----+\n",
            "|year|count|\n",
            "+----+-----+\n",
            "|1995|  296|\n",
            "+----+-----+\n",
            "\n"
          ],
          "name": "stdout"
        }
      ]
    },
    {
      "cell_type": "code",
      "metadata": {
        "colab": {
          "base_uri": "https://localhost:8080/"
        },
        "id": "Tx44LeZlUzMg",
        "outputId": "c6a6d9b1-a3cd-446e-d579-87d185ec1e21"
      },
      "source": [
        "l.groupBy().sum().show()"
      ],
      "execution_count": null,
      "outputs": [
        {
          "output_type": "stream",
          "text": [
            "+-------+\n",
            "|sum(uu)|\n",
            "+-------+\n",
            "|   1682|\n",
            "+-------+\n",
            "\n"
          ],
          "name": "stdout"
        }
      ]
    },
    {
      "cell_type": "code",
      "metadata": {
        "colab": {
          "base_uri": "https://localhost:8080/",
          "height": 249
        },
        "id": "LTyhK4-aHrgc",
        "outputId": "25163c13-e52d-4651-ecc7-5552701cbe29"
      },
      "source": [
        "l.orderBy('Action', ascending =False).show()"
      ],
      "execution_count": null,
      "outputs": [
        {
          "output_type": "error",
          "ename": "NameError",
          "evalue": "ignored",
          "traceback": [
            "\u001b[0;31m---------------------------------------------------------------------------\u001b[0m",
            "\u001b[0;31mNameError\u001b[0m                                 Traceback (most recent call last)",
            "\u001b[0;32m<ipython-input-2-30010143c170>\u001b[0m in \u001b[0;36m<module>\u001b[0;34m()\u001b[0m\n\u001b[0;32m----> 1\u001b[0;31m \u001b[0ml\u001b[0m\u001b[0;34m.\u001b[0m\u001b[0morderBy\u001b[0m\u001b[0;34m(\u001b[0m\u001b[0;34m'Action'\u001b[0m\u001b[0;34m,\u001b[0m \u001b[0mascending\u001b[0m \u001b[0;34m=\u001b[0m\u001b[0;32mFalse\u001b[0m\u001b[0;34m)\u001b[0m\u001b[0;34m.\u001b[0m\u001b[0mshow\u001b[0m\u001b[0;34m(\u001b[0m\u001b[0;34m)\u001b[0m\u001b[0;34m\u001b[0m\u001b[0;34m\u001b[0m\u001b[0m\n\u001b[0m",
            "\u001b[0;31mNameError\u001b[0m: name 'l' is not defined"
          ]
        }
      ]
    },
    {
      "cell_type": "code",
      "metadata": {
        "id": "9dqInQHtl3JU"
      },
      "source": [
        "rating = df_data.groupBy('item_id')\\\n",
        ".agg(avg('rating').alias('average_rating'),count('rating').alias('no_of_ratings'))"
      ],
      "execution_count": null,
      "outputs": []
    },
    {
      "cell_type": "code",
      "metadata": {
        "id": "DpWizQ7HqycG"
      },
      "source": [
        " \n",
        "#joining the the ratings table and movie table\n",
        "d = df_item.join(rating,df_item.movie_id == rating.item_id)"
      ],
      "execution_count": null,
      "outputs": []
    },
    {
      "cell_type": "code",
      "metadata": {
        "id": "n0bEpSbmlZvx"
      },
      "source": [
        "##groupby year and genres,and then order by average rating(descending) and drop the duplicates form the year \n",
        "d.groupBy('year','movie_id','average_rating','no_of_ratings','unknown','Action','Adventure','Animation','Childrens','Comedy','Crime','Documentary','Drama','Fantasy','FilmNoir','Horror','Musical','Mystery','Romance','SciFi','Thriller','War','Western')\\\n",
        ".agg(count('movie_id'))\\\n",
        "#.orderBy(desc('average_rating')).drop_duplicates(subset=['year']).drop('count(movie_id)').sort(asc('year'))\\\n",
        ".repartition(1).write.option('header',True).csv('mo')"
      ],
      "execution_count": null,
      "outputs": []
    }
  ]
}