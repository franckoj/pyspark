{
  "nbformat": 4,
  "nbformat_minor": 0,
  "metadata": {
    "colab": {
      "name": "Untitled2.ipynb",
      "provenance": [],
      "authorship_tag": "ABX9TyPAV08eFxwaZPNNzqONJ9hn",
      "include_colab_link": true
    },
    "kernelspec": {
      "name": "python3",
      "display_name": "Python 3"
    },
    "language_info": {
      "name": "python"
    }
  },
  "cells": [
    {
      "cell_type": "markdown",
      "metadata": {
        "id": "view-in-github",
        "colab_type": "text"
      },
      "source": [
        "<a href=\"https://colab.research.google.com/github/franckoj/pyspark/blob/main/yearmissingmovie.ipynb\" target=\"_parent\"><img src=\"https://colab.research.google.com/assets/colab-badge.svg\" alt=\"Open In Colab\"/></a>"
      ]
    },
    {
      "cell_type": "code",
      "metadata": {
        "id": "vfU1G_GICd1G"
      },
      "source": [
        "!pip install pyspark"
      ],
      "execution_count": null,
      "outputs": []
    },
    {
      "cell_type": "code",
      "metadata": {
        "id": "1CA5uwE2CiS7"
      },
      "source": [
        "from pyspark.sql import SparkSession\n",
        "import pyspark.sql.functions as F\n",
        "from pyspark.sql.functions import *\n",
        "spark=SparkSession.builder.appName('Usecase2').getOrCreate()"
      ],
      "execution_count": 2,
      "outputs": []
    },
    {
      "cell_type": "code",
      "metadata": {
        "id": "qk2C51uUClT2"
      },
      "source": [
        "!wget https://files.grouplens.org/datasets/movielens/ml-100k.zip\n",
        "!unzip ml-100k.zip"
      ],
      "execution_count": null,
      "outputs": []
    },
    {
      "cell_type": "code",
      "metadata": {
        "id": "9q09QjtxCkWM"
      },
      "source": [
        "schema_item = 'movieid string, movietitle string,releasedate string, videoreleasedate long,IMDbURL string, unknown string , Action string, Adventure string, Animation string,Childrens string, Comedy string, Crime string, Documentary string, Drama string, Fantasy string,FilmNoir string, Horror string, Musical string, Mystery string, Romance string, SciFi string,Thriller string, War string, Western string'\n",
        "df_item = spark.read.csv('/content/ml-100k/u.item',sep='|',schema=schema_item)"
      ],
      "execution_count": 4,
      "outputs": []
    },
    {
      "cell_type": "code",
      "metadata": {
        "id": "b44fTYCWCplD"
      },
      "source": [
        "#find the movie which do not have year\n",
        "dff = df_item.withColumn('year',regexp_extract(df_item.movietitle,'(\\d{4})',1)).select(['movietitle','year'])"
      ],
      "execution_count": 5,
      "outputs": []
    },
    {
      "cell_type": "code",
      "metadata": {
        "id": "HRSvJZP-Cr6p"
      },
      "source": [
        "dff2=dff.withColumn('year',when(dff.year == '','Noyear')).filter(dff.year == '')"
      ],
      "execution_count": 6,
      "outputs": []
    },
    {
      "cell_type": "code",
      "metadata": {
        "id": "gnMcsRCyCuEL"
      },
      "source": [
        "dff2.write.option(\"header\",True).csv(\"/content/usecase2\")"
      ],
      "execution_count": 7,
      "outputs": []
    }
  ]
}